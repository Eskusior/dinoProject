{
 "cells": [
  {
   "cell_type": "markdown",
   "metadata": {},
   "source": [
    "API für DinoProject\n",
    "\n",
    "Methoden:\n",
    "\n",
    "POST /game: Erstellt eine neue Session und gibt einen Redirect zurück\n",
    " \n",
    "GET /highscore : Liefert alle Session-IDs aus der DB zurück <br/>\n",
    "POST /highscore : Erstellt eine neue Session in der DB\n",
    "\n",
    "GET /highscore/{id} : Liefert zu einer Session-ID den Highscore zurück <br/>\n",
    "PUT /highscore/{id} : Aktualisiert bei einer Session den Highscore"
   ]
  },
  {
   "cell_type": "code",
   "execution_count": 1,
   "metadata": {},
   "outputs": [],
   "source": [
    "from flask import Flask, request\n",
    "from flask_restful import Resource, Api\n",
    "from flask_cors import CORS\n",
    "from sqlalchemy import create_engine\n",
    "from json import dumps\n",
    "from flask import jsonify, redirect\n",
    "import optparse\n",
    "import mysql.connector\n",
    "import uuid\n",
    "\n",
    "app = Flask(__name__)\n",
    "cors = CORS(app, resources={r\"*\": {\"origins\": \"*\"}}) # CORS\n",
    "api = Api(app)\n",
    "\n",
    "\n",
    "# Datenbank konfigurieren und Verbindung herstellen\n",
    "mydb = mysql.connector.connect(\n",
    "    host = \"webengineering.ins.hs-anhalt.de\",\n",
    "    port = 32192,\n",
    "    user = \"root\",\n",
    "    passwd = \"ga4wm19\",\n",
    "    database = \"dinoProject\"\n",
    ")\n",
    "\n",
    "mycursor = mydb.cursor()\n",
    "mydb.disconnect() # Vorläufig Verbindung schließen"
   ]
  },
  {
   "cell_type": "code",
   "execution_count": 2,
   "metadata": {},
   "outputs": [],
   "source": [
    "# Klasse um eine neue Session zu erstellen\n",
    "class createSession(Resource):\n",
    "    def post(self):\n",
    "        sessionID = str(uuid.uuid4().hex)\n",
    "        return redirect('http://localhost:8080/game/' + sessionID, code=303)\n",
    "\n",
    "# Klasse für Updaten und Abfragen eines spezifischen Highscores\n",
    "class getOrAddHighscore(Resource):\n",
    "    def get(self, id):\n",
    "        sql = \"SELECT * FROM dinoProject.highscoreTable WHERE sessionID = '\" + id + \"'\"\n",
    "        mydb.reconnect(attempts = 1 , delay = 0)\n",
    "        mycursor.execute(sql)\n",
    "        dbResult = mycursor.fetchall()\n",
    "        \n",
    "        if len(dbResult) == 1 :\n",
    "            session = dbResult[0]\n",
    "            return jsonify({'sessionID': session[0], 'highscore': session[1]})\n",
    "        else:\n",
    "            return jsonify({'status': 'none or more than one highscore found', 'statuscode': 409})\n",
    "        \n",
    "    def post(self, id):\n",
    "        print(request.json)\n",
    "        if not request.json or not \"highscore\" in request.json or not \"sessionID\" in request.json:\n",
    "            return jsonify({'status': 'could not update highscore', 'statuscode': 409})\n",
    "        else:\n",
    "            sql = \"INSERT INTO dinoProject.highscoreTable (sessionID, highscore) VALUES (%s, %s) ON DUPLICATE KEY UPDATE highscore = %s\"\n",
    "            values = (id, request.json[\"highscore\"], request.json[\"highscore\"])\n",
    "            mydb.reconnect(attempts = 1 , delay = 0)\n",
    "            mycursor.execute(sql, values)\n",
    "            mydb.commit()\n",
    "            mydb.disconnect()\n",
    "            return jsonify({'status': 'updated highscore with id: ' + request.json[\"sessionID\"], 'statuscode': 200})"
   ]
  },
  {
   "cell_type": "code",
   "execution_count": null,
   "metadata": {},
   "outputs": [
    {
     "name": "stdout",
     "output_type": "stream",
     "text": [
      " * Serving Flask app \"__main__\" (lazy loading)\n",
      " * Environment: production\n",
      "   WARNING: Do not use the development server in a production environment.\n",
      "   Use a production WSGI server instead.\n",
      " * Debug mode: off\n"
     ]
    },
    {
     "name": "stderr",
     "output_type": "stream",
     "text": [
      " * Running on http://127.0.0.1:4000/ (Press CTRL+C to quit)\n",
      "127.0.0.1 - - [04/Sep/2019 15:01:45] \"GET /highscore/6d02fd1e9d2143649d2b21d13a77d9e0 HTTP/1.1\" 200 -\n",
      "127.0.0.1 - - [04/Sep/2019 15:01:50] \"POST /highscore/6d02fd1e9d2143649d2b21d13a77d9e0 HTTP/1.1\" 200 -\n"
     ]
    },
    {
     "name": "stdout",
     "output_type": "stream",
     "text": [
      "None\n"
     ]
    },
    {
     "name": "stderr",
     "output_type": "stream",
     "text": [
      "127.0.0.1 - - [04/Sep/2019 15:03:49] \"POST /game HTTP/1.1\" 303 -\n",
      "127.0.0.1 - - [04/Sep/2019 15:03:50] \"GET /highscore/ee5f3f08de2b4ebf80a7cde917014a17 HTTP/1.1\" 200 -\n",
      "127.0.0.1 - - [04/Sep/2019 15:03:55] \"OPTIONS /highscore/ee5f3f08de2b4ebf80a7cde917014a17 HTTP/1.1\" 200 -\n"
     ]
    },
    {
     "name": "stdout",
     "output_type": "stream",
     "text": [
      "{'sessionID': 'ee5f3f08de2b4ebf80a7cde917014a17', 'highscore': 320}\n"
     ]
    },
    {
     "name": "stderr",
     "output_type": "stream",
     "text": [
      "127.0.0.1 - - [04/Sep/2019 15:03:56] \"POST /highscore/ee5f3f08de2b4ebf80a7cde917014a17 HTTP/1.1\" 200 -\n",
      "127.0.0.1 - - [04/Sep/2019 15:04:16] \"GET /highscore/ee5f3f08de2b4ebf80a7cde917014a17 HTTP/1.1\" 200 -\n",
      "127.0.0.1 - - [04/Sep/2019 15:04:20] \"OPTIONS /highscore/ee5f3f08de2b4ebf80a7cde917014a17 HTTP/1.1\" 200 -\n"
     ]
    },
    {
     "name": "stdout",
     "output_type": "stream",
     "text": [
      "{'sessionID': 'ee5f3f08de2b4ebf80a7cde917014a17', 'highscore': 306}\n"
     ]
    },
    {
     "name": "stderr",
     "output_type": "stream",
     "text": [
      "127.0.0.1 - - [04/Sep/2019 15:04:21] \"POST /highscore/ee5f3f08de2b4ebf80a7cde917014a17 HTTP/1.1\" 200 -\n",
      "127.0.0.1 - - [04/Sep/2019 15:05:39] \"POST /game HTTP/1.1\" 303 -\n",
      "127.0.0.1 - - [04/Sep/2019 15:05:40] \"GET /highscore/b4f66ca8a6004d85ba7512ab77bf73ad HTTP/1.1\" 200 -\n",
      "127.0.0.1 - - [04/Sep/2019 15:05:45] \"OPTIONS /highscore/b4f66ca8a6004d85ba7512ab77bf73ad HTTP/1.1\" 200 -\n"
     ]
    },
    {
     "name": "stdout",
     "output_type": "stream",
     "text": [
      "{'sessionID': 'b4f66ca8a6004d85ba7512ab77bf73ad', 'highscore': 323}\n"
     ]
    },
    {
     "name": "stderr",
     "output_type": "stream",
     "text": [
      "127.0.0.1 - - [04/Sep/2019 15:05:45] \"POST /highscore/b4f66ca8a6004d85ba7512ab77bf73ad HTTP/1.1\" 200 -\n",
      "127.0.0.1 - - [04/Sep/2019 15:06:51] \"POST /game HTTP/1.1\" 303 -\n",
      "127.0.0.1 - - [04/Sep/2019 15:06:52] \"GET /highscore/eaab7c97115740739fc2b5445758af90 HTTP/1.1\" 200 -\n",
      "127.0.0.1 - - [04/Sep/2019 15:06:57] \"OPTIONS /highscore/eaab7c97115740739fc2b5445758af90 HTTP/1.1\" 200 -\n"
     ]
    },
    {
     "name": "stdout",
     "output_type": "stream",
     "text": [
      "{'sessionID': 'eaab7c97115740739fc2b5445758af90', 'highscore': 313}\n"
     ]
    },
    {
     "name": "stderr",
     "output_type": "stream",
     "text": [
      "127.0.0.1 - - [04/Sep/2019 15:06:57] \"POST /highscore/eaab7c97115740739fc2b5445758af90 HTTP/1.1\" 200 -\n",
      "127.0.0.1 - - [04/Sep/2019 15:08:14] \"GET /highscore/eaab7c97115740739fc2b5445758af90 HTTP/1.1\" 200 -\n",
      "127.0.0.1 - - [04/Sep/2019 15:09:17] \"POST /game HTTP/1.1\" 303 -\n",
      "127.0.0.1 - - [04/Sep/2019 15:09:18] \"GET /highscore/1196c1bd055e473a8c1905f10f023675 HTTP/1.1\" 200 -\n",
      "127.0.0.1 - - [04/Sep/2019 15:09:50] \"POST /game HTTP/1.1\" 303 -\n",
      "127.0.0.1 - - [04/Sep/2019 15:09:51] \"GET /highscore/227d0b881ce64d77b712988aab1a5e1c HTTP/1.1\" 200 -\n",
      "127.0.0.1 - - [04/Sep/2019 15:09:56] \"OPTIONS /highscore/227d0b881ce64d77b712988aab1a5e1c HTTP/1.1\" 200 -\n"
     ]
    },
    {
     "name": "stdout",
     "output_type": "stream",
     "text": [
      "{'sessionID': '227d0b881ce64d77b712988aab1a5e1c', 'highscore': 316}\n"
     ]
    },
    {
     "name": "stderr",
     "output_type": "stream",
     "text": [
      "127.0.0.1 - - [04/Sep/2019 15:09:56] \"POST /highscore/227d0b881ce64d77b712988aab1a5e1c HTTP/1.1\" 200 -\n",
      "127.0.0.1 - - [04/Sep/2019 15:10:07] \"OPTIONS /highscore/227d0b881ce64d77b712988aab1a5e1c HTTP/1.1\" 200 -\n"
     ]
    },
    {
     "name": "stdout",
     "output_type": "stream",
     "text": [
      "{'sessionID': '227d0b881ce64d77b712988aab1a5e1c', 'highscore': 572}\n"
     ]
    },
    {
     "name": "stderr",
     "output_type": "stream",
     "text": [
      "127.0.0.1 - - [04/Sep/2019 15:10:07] \"POST /highscore/227d0b881ce64d77b712988aab1a5e1c HTTP/1.1\" 200 -\n",
      "127.0.0.1 - - [04/Sep/2019 15:10:12] \"GET /highscore/227d0b881ce64d77b712988aab1a5e1c HTTP/1.1\" 200 -\n",
      "127.0.0.1 - - [04/Sep/2019 15:10:17] \"OPTIONS /highscore/227d0b881ce64d77b712988aab1a5e1c HTTP/1.1\" 200 -\n"
     ]
    },
    {
     "name": "stdout",
     "output_type": "stream",
     "text": [
      "{'sessionID': '227d0b881ce64d77b712988aab1a5e1c', 'highscore': 305}\n"
     ]
    },
    {
     "name": "stderr",
     "output_type": "stream",
     "text": [
      "127.0.0.1 - - [04/Sep/2019 15:10:17] \"POST /highscore/227d0b881ce64d77b712988aab1a5e1c HTTP/1.1\" 200 -\n",
      "127.0.0.1 - - [04/Sep/2019 15:10:28] \"OPTIONS /highscore/227d0b881ce64d77b712988aab1a5e1c HTTP/1.1\" 200 -\n"
     ]
    },
    {
     "name": "stdout",
     "output_type": "stream",
     "text": [
      "{'sessionID': '227d0b881ce64d77b712988aab1a5e1c', 'highscore': 578}\n"
     ]
    },
    {
     "name": "stderr",
     "output_type": "stream",
     "text": [
      "127.0.0.1 - - [04/Sep/2019 15:10:28] \"POST /highscore/227d0b881ce64d77b712988aab1a5e1c HTTP/1.1\" 200 -\n",
      "127.0.0.1 - - [04/Sep/2019 15:13:29] \"GET /highscore/227d0b881ce64d77b712988aab1a5e1c HTTP/1.1\" 200 -\n",
      "127.0.0.1 - - [04/Sep/2019 15:13:38] \"OPTIONS /highscore/227d0b881ce64d77b712988aab1a5e1c HTTP/1.1\" 200 -\n"
     ]
    },
    {
     "name": "stdout",
     "output_type": "stream",
     "text": [
      "{'sessionID': '227d0b881ce64d77b712988aab1a5e1c', 'highscore': 594}\n"
     ]
    },
    {
     "name": "stderr",
     "output_type": "stream",
     "text": [
      "127.0.0.1 - - [04/Sep/2019 15:13:39] \"POST /highscore/227d0b881ce64d77b712988aab1a5e1c HTTP/1.1\" 200 -\n",
      "127.0.0.1 - - [04/Sep/2019 15:15:22] \"POST /game HTTP/1.1\" 303 -\n",
      "127.0.0.1 - - [04/Sep/2019 15:15:22] \"GET /highscore/9b9e7a5527c64e9f93f9c9cf1d31da23 HTTP/1.1\" 200 -\n",
      "127.0.0.1 - - [04/Sep/2019 15:15:27] \"OPTIONS /highscore/9b9e7a5527c64e9f93f9c9cf1d31da23 HTTP/1.1\" 200 -\n"
     ]
    },
    {
     "name": "stdout",
     "output_type": "stream",
     "text": [
      "{'sessionID': '9b9e7a5527c64e9f93f9c9cf1d31da23', 'highscore': 306}\n"
     ]
    },
    {
     "name": "stderr",
     "output_type": "stream",
     "text": [
      "127.0.0.1 - - [04/Sep/2019 15:15:28] \"POST /highscore/9b9e7a5527c64e9f93f9c9cf1d31da23 HTTP/1.1\" 200 -\n",
      "127.0.0.1 - - [04/Sep/2019 15:15:32] \"GET /highscore/9b9e7a5527c64e9f93f9c9cf1d31da23 HTTP/1.1\" 200 -\n",
      "127.0.0.1 - - [04/Sep/2019 15:15:37] \"OPTIONS /highscore/9b9e7a5527c64e9f93f9c9cf1d31da23 HTTP/1.1\" 200 -\n"
     ]
    },
    {
     "name": "stdout",
     "output_type": "stream",
     "text": [
      "{'sessionID': '9b9e7a5527c64e9f93f9c9cf1d31da23', 'highscore': 305}\n"
     ]
    },
    {
     "name": "stderr",
     "output_type": "stream",
     "text": [
      "127.0.0.1 - - [04/Sep/2019 15:15:37] \"POST /highscore/9b9e7a5527c64e9f93f9c9cf1d31da23 HTTP/1.1\" 200 -\n",
      "127.0.0.1 - - [04/Sep/2019 15:19:17] \"GET /highscore/9b9e7a5527c64e9f93f9c9cf1d31da23 HTTP/1.1\" 200 -\n",
      "127.0.0.1 - - [04/Sep/2019 15:19:21] \"OPTIONS /highscore/9b9e7a5527c64e9f93f9c9cf1d31da23 HTTP/1.1\" 200 -\n"
     ]
    },
    {
     "name": "stdout",
     "output_type": "stream",
     "text": [
      "{'sessionID': '9b9e7a5527c64e9f93f9c9cf1d31da23', 'highscore': 306}\n"
     ]
    },
    {
     "name": "stderr",
     "output_type": "stream",
     "text": [
      "127.0.0.1 - - [04/Sep/2019 15:19:22] \"POST /highscore/9b9e7a5527c64e9f93f9c9cf1d31da23 HTTP/1.1\" 200 -\n",
      "127.0.0.1 - - [04/Sep/2019 15:21:14] \"POST /game HTTP/1.1\" 303 -\n",
      "127.0.0.1 - - [04/Sep/2019 15:21:14] \"GET /highscore/419ac86da5e34f02aecc8e6a783f248a HTTP/1.1\" 200 -\n",
      "127.0.0.1 - - [04/Sep/2019 15:21:19] \"OPTIONS /highscore/419ac86da5e34f02aecc8e6a783f248a HTTP/1.1\" 200 -\n"
     ]
    },
    {
     "name": "stdout",
     "output_type": "stream",
     "text": [
      "{'sessionID': '419ac86da5e34f02aecc8e6a783f248a', 'highscore': 316}\n"
     ]
    },
    {
     "name": "stderr",
     "output_type": "stream",
     "text": [
      "127.0.0.1 - - [04/Sep/2019 15:21:19] \"POST /highscore/419ac86da5e34f02aecc8e6a783f248a HTTP/1.1\" 200 -\n",
      "127.0.0.1 - - [04/Sep/2019 15:21:57] \"POST /game HTTP/1.1\" 303 -\n",
      "127.0.0.1 - - [04/Sep/2019 15:21:57] \"GET /highscore/864457165f07418b91069eae1411f21b HTTP/1.1\" 200 -\n",
      "127.0.0.1 - - [04/Sep/2019 15:22:02] \"OPTIONS /highscore/864457165f07418b91069eae1411f21b HTTP/1.1\" 200 -\n"
     ]
    },
    {
     "name": "stdout",
     "output_type": "stream",
     "text": [
      "{'sessionID': '864457165f07418b91069eae1411f21b', 'highscore': 314}\n"
     ]
    },
    {
     "name": "stderr",
     "output_type": "stream",
     "text": [
      "127.0.0.1 - - [04/Sep/2019 15:22:03] \"POST /highscore/864457165f07418b91069eae1411f21b HTTP/1.1\" 200 -\n",
      "127.0.0.1 - - [04/Sep/2019 15:22:10] \"GET /highscore/864457165f07418b91069eae1411f21b HTTP/1.1\" 200 -\n",
      "127.0.0.1 - - [04/Sep/2019 15:22:15] \"OPTIONS /highscore/864457165f07418b91069eae1411f21b HTTP/1.1\" 200 -\n"
     ]
    },
    {
     "name": "stdout",
     "output_type": "stream",
     "text": [
      "{'sessionID': '864457165f07418b91069eae1411f21b', 'highscore': 305}\n"
     ]
    },
    {
     "name": "stderr",
     "output_type": "stream",
     "text": [
      "127.0.0.1 - - [04/Sep/2019 15:22:16] \"POST /highscore/864457165f07418b91069eae1411f21b HTTP/1.1\" 200 -\n",
      "127.0.0.1 - - [04/Sep/2019 15:22:42] \"POST /game HTTP/1.1\" 303 -\n",
      "127.0.0.1 - - [04/Sep/2019 15:22:43] \"GET /highscore/2a613f78fd3847eba7c1a518fbff23e1 HTTP/1.1\" 200 -\n",
      "127.0.0.1 - - [04/Sep/2019 15:22:47] \"OPTIONS /highscore/2a613f78fd3847eba7c1a518fbff23e1 HTTP/1.1\" 200 -\n"
     ]
    },
    {
     "name": "stdout",
     "output_type": "stream",
     "text": [
      "{'sessionID': '2a613f78fd3847eba7c1a518fbff23e1', 'highscore': 306}\n"
     ]
    },
    {
     "name": "stderr",
     "output_type": "stream",
     "text": [
      "127.0.0.1 - - [04/Sep/2019 15:22:49] \"POST /highscore/2a613f78fd3847eba7c1a518fbff23e1 HTTP/1.1\" 200 -\n",
      "127.0.0.1 - - [04/Sep/2019 15:22:54] \"GET /highscore/2a613f78fd3847eba7c1a518fbff23e1 HTTP/1.1\" 200 -\n",
      "127.0.0.1 - - [04/Sep/2019 15:22:58] \"OPTIONS /highscore/2a613f78fd3847eba7c1a518fbff23e1 HTTP/1.1\" 200 -\n"
     ]
    },
    {
     "name": "stdout",
     "output_type": "stream",
     "text": [
      "{'sessionID': '2a613f78fd3847eba7c1a518fbff23e1', 'highscore': 308}\n"
     ]
    },
    {
     "name": "stderr",
     "output_type": "stream",
     "text": [
      "127.0.0.1 - - [04/Sep/2019 15:22:59] \"POST /highscore/2a613f78fd3847eba7c1a518fbff23e1 HTTP/1.1\" 200 -\n",
      "127.0.0.1 - - [04/Sep/2019 15:23:06] \"OPTIONS /highscore/2a613f78fd3847eba7c1a518fbff23e1 HTTP/1.1\" 200 -\n"
     ]
    },
    {
     "name": "stdout",
     "output_type": "stream",
     "text": [
      "{'sessionID': '2a613f78fd3847eba7c1a518fbff23e1', 'highscore': 312}\n"
     ]
    },
    {
     "name": "stderr",
     "output_type": "stream",
     "text": [
      "127.0.0.1 - - [04/Sep/2019 15:23:06] \"POST /highscore/2a613f78fd3847eba7c1a518fbff23e1 HTTP/1.1\" 200 -\n",
      "127.0.0.1 - - [04/Sep/2019 15:23:22] \"OPTIONS /highscore/2a613f78fd3847eba7c1a518fbff23e1 HTTP/1.1\" 200 -\n"
     ]
    },
    {
     "name": "stdout",
     "output_type": "stream",
     "text": [
      "{'sessionID': '2a613f78fd3847eba7c1a518fbff23e1', 'highscore': 556}\n"
     ]
    },
    {
     "name": "stderr",
     "output_type": "stream",
     "text": [
      "127.0.0.1 - - [04/Sep/2019 15:23:23] \"POST /highscore/2a613f78fd3847eba7c1a518fbff23e1 HTTP/1.1\" 200 -\n"
     ]
    }
   ],
   "source": [
    "# Klassen an entsprechende URLs binden\n",
    "api.add_resource(createSession, '/game')\n",
    "api.add_resource(getOrAddHighscore, '/highscore/<id>')\n",
    "\n",
    "# Run für Testzwecke, startet auf localhost:5000\n",
    "if __name__ == \"__main__\":\n",
    "    app.run(port=4000)\n",
    "\n",
    "# Run für Dockercontainer, mit Portangabe\n",
    "#if __name__ == \"__main__\":\n",
    " #   parser = optparse.OptionParser(usage=\"python server.py -p \")\n",
    "  #  parser.add_option('-p', '--port', action='store', dest='port', help='The port to listen on.')\n",
    "   # (args, _) = parser.parse_args()\n",
    "    #if args.port == None:\n",
    "     #   print \"Missing required argument: -p/--port\"\n",
    "      #  sys.exit(1)\n",
    "    #app.run(host='0.0.0.0', port=int(args.port), debug=False)"
   ]
  }
 ],
 "metadata": {
  "kernelspec": {
   "display_name": "Python 3",
   "language": "python",
   "name": "python3"
  },
  "language_info": {
   "codemirror_mode": {
    "name": "ipython",
    "version": 3
   },
   "file_extension": ".py",
   "mimetype": "text/x-python",
   "name": "python",
   "nbconvert_exporter": "python",
   "pygments_lexer": "ipython3",
   "version": "3.7.3"
  }
 },
 "nbformat": 4,
 "nbformat_minor": 2
}
