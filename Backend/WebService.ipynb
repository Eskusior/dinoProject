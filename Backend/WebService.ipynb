{
 "cells": [
  {
   "cell_type": "code",
   "execution_count": 1,
   "metadata": {},
   "outputs": [],
   "source": [
    "from flask import Flask, request\n",
    "from flask_restful import Resource, Api\n",
    "from flask_cors import CORS\n",
    "from sqlalchemy import create_engine\n",
    "from json import dumps\n",
    "from flask import jsonify\n",
    "import optparse\n",
    "import mysql.connector\n",
    "\n",
    "app = Flask(__name__)\n",
    "cors = CORS(app, resources={r\"*\": {\"origins\": \"*\"}}) # CORS\n",
    "api = Api(app)"
   ]
  },
  {
   "cell_type": "code",
   "execution_count": 2,
   "metadata": {},
   "outputs": [],
   "source": [
    "# Klasse einer Session mit ID und Highscore\n",
    "class session:\n",
    "    id: 0\n",
    "    highscore: 0\n",
    "    def __init__(self, id, highscore):\n",
    "        self.id = id\n",
    "        self.highscore = highscore"
   ]
  },
  {
   "cell_type": "code",
   "execution_count": 3,
   "metadata": {},
   "outputs": [],
   "source": [
    "# Datenbank konfigurieren und Verbindung herstellen\n",
    "mydb = mysql.connector.connect(\n",
    "    host = \"webengineering.ins.hs-anhalt.de\",\n",
    "    port = 32192,\n",
    "    user = \"root\",\n",
    "    passwd = \"ga4wm19\",\n",
    "    database = \"dinoProject\"\n",
    ")\n",
    "\n",
    "mycursor = mydb.cursor()\n",
    "mydb.disconnect() # Vorläufig Verbindung schließen"
   ]
  },
  {
   "cell_type": "code",
   "execution_count": null,
   "metadata": {},
   "outputs": [],
   "source": [
    "# Klasse für /session\n",
    "class getSessionsOrAddNew(Resource):\n",
    "    \n",
    "    # Alle Sessions holen\n",
    "    def get(self):\n",
    "        result = []\n",
    "        \n",
    "        # Datenbank reconnect\n",
    "        mydb.reconnect(attempts = 1, delay = 0)\n",
    "        # SQL Query\n",
    "        mycursor.execute(\"SELECT * FROM dinoProject.sessionTable\")\n",
    "        # Rückgabe holen\n",
    "        dbResult = mycursor.fetchall()\n",
    "        \n",
    "        # Jede Session an result anhängen\n",
    "        for session in dbResult:\n",
    "            result.append({'id': session[0], 'highscore': session[1]})\n",
    "        \n",
    "        # Verbindung schließen\n",
    "        mydb.disconnect()\n",
    "        \n",
    "        if len(result) > 0:\n",
    "            return jsonify(result)\n",
    "        else:\n",
    "            return jsonify({'status': 'no existing sessions', 'statuscode': 200})\n",
    "        \n",
    "    # Neue Session erstellen\n",
    "    def post(self):\n",
    "        # Wenn übergebenes Objekt unvollständig\n",
    "        if not request.json or not 'highscore' in request.json:\n",
    "            return jsonify({'status': 'could not add session', 'statuscode': 409})\n",
    "        else:\n",
    "            sql = 'INSERT INTO dinoProject.sessionTable (highscore) VALUES (%s)'\n",
    "            values = (request.json['highscore'], )\n",
    "            mydb.reconnect(attempts = 1, delay = 0)\n",
    "            mycursor.execute(sql, values)\n",
    "            mydb.commit() # Änderungen an DB commiten\n",
    "            mydb.disconnect()\n",
    "            \n",
    "            return jsonify({'status': 'session added', 'statuscode': 200})\n",
    "\n",
    "class getOrUpdateSpecificSession(Resource):\n",
    "    def get(self, id):\n",
    "        sql = \"SELECT * FROM dinoProject.sessionTable WHERE id = '\" + id + \"'\"\n",
    "        mydb.reconnect(attempts = 1 , delay = 0)\n",
    "        mycursor.execute(sql)\n",
    "        dbResult = mycursor.fetchall()\n",
    "        \n",
    "        if len(dbResult) == 1 :\n",
    "            session = dbResult[0]\n",
    "            return jsonify({'id': session[0], 'highscore': session[1]})\n",
    "        else:\n",
    "            return jsonify({'status': 'none or more than one session found', 'statuscode': 409})\n",
    "        \n",
    "        \n",
    "        \n",
    "    def put(self, id):\n",
    "        if not request.json or not 'highscore' in request.json:\n",
    "            return jsonify({'status': 'could not update session', 'statuscode': 409})\n",
    "        else:\n",
    "            sql = \"UPDATE dinoProject.sessionTable SET highscore = %s WHERE id = %s\"\n",
    "            values = (request.json['highscore'], id)\n",
    "            mydb.reconnect(attempts = 1 , delay = 0)\n",
    "            mycursor.execute(sql, values)\n",
    "            mydb.commit()\n",
    "            mydb.disconnect()\n",
    "            return jsonify({'status': 'updated todo with id: ' + todo_id, 'statuscode': 200})"
   ]
  },
  {
   "cell_type": "code",
   "execution_count": null,
   "metadata": {},
   "outputs": [
    {
     "name": "stdout",
     "output_type": "stream",
     "text": [
      " * Serving Flask app \"__main__\" (lazy loading)\n",
      " * Environment: production\n",
      "   WARNING: Do not use the development server in a production environment.\n",
      "   Use a production WSGI server instead.\n",
      " * Debug mode: off\n"
     ]
    },
    {
     "name": "stderr",
     "output_type": "stream",
     "text": [
      " * Running on http://127.0.0.1:5000/ (Press CTRL+C to quit)\n",
      "127.0.0.1 - - [27/Aug/2019 15:46:09] \"GET /session/1 HTTP/1.1\" 200 -\n"
     ]
    }
   ],
   "source": [
    "# Klassen an entsprechende URLs binden\n",
    "api.add_resource(getSessionsOrAddNew, '/session')\n",
    "api.add_resource(getOrUpdateSpecificSession, '/session/<id>')\n",
    "\n",
    "# Run für Testzwecke, startet auf localhost:5000\n",
    "if __name__ == \"__main__\":\n",
    "    app.run()\n",
    "\n",
    "# Run für Dockercontainer, mit Portangabe\n",
    "#if __name__ == \"__main__\":\n",
    " #   parser = optparse.OptionParser(usage=\"python server.py -p \")\n",
    "  #  parser.add_option('-p', '--port', action='store', dest='port', help='The port to listen on.')\n",
    "   # (args, _) = parser.parse_args()\n",
    "    #if args.port == None:\n",
    "     #   print \"Missing required argument: -p/--port\"\n",
    "      #  sys.exit(1)\n",
    "    #app.run(host='0.0.0.0', port=int(args.port), debug=True)"
   ]
  },
  {
   "cell_type": "code",
   "execution_count": null,
   "metadata": {},
   "outputs": [],
   "source": []
  }
 ],
 "metadata": {
  "kernelspec": {
   "display_name": "Python 3",
   "language": "python",
   "name": "python3"
  },
  "language_info": {
   "codemirror_mode": {
    "name": "ipython",
    "version": 3
   },
   "file_extension": ".py",
   "mimetype": "text/x-python",
   "name": "python",
   "nbconvert_exporter": "python",
   "pygments_lexer": "ipython3",
   "version": "3.7.3"
  }
 },
 "nbformat": 4,
 "nbformat_minor": 2
}
