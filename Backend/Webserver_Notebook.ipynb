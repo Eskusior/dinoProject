{
 "cells": [
  {
   "cell_type": "markdown",
   "metadata": {},
   "source": [
    "API für DinoProject\n",
    "\n",
    "Methoden:\n",
    "\n",
    "POST /game: Erstellt eine neue Session und gibt einen Redirect zurück\n",
    "\n",
    "GET /highscore/{id} : Liefert zu einer Session-ID den Highscore zurück <br/>\n",
    "POST /highscore/{id} : Aktualisiert bei einer Session den Highscore oder legt ihn neu an"
   ]
  },
  {
   "cell_type": "code",
   "execution_count": 1,
   "metadata": {},
   "outputs": [],
   "source": [
    "from flask import Flask, request\n",
    "from flask_restful import Resource, Api\n",
    "from flask_cors import CORS\n",
    "from sqlalchemy import create_engine\n",
    "from json import dumps\n",
    "from flask import jsonify, redirect\n",
    "import optparse\n",
    "import mysql.connector\n",
    "import uuid\n",
    "\n",
    "app = Flask(__name__)\n",
    "cors = CORS(app, resources={r\"*\": {\"origins\": \"*\"}}) # CORS\n",
    "api = Api(app)\n",
    "\n",
    "\n",
    "# Datenbank konfigurieren und Verbindung herstellen\n",
    "mydb = mysql.connector.connect(\n",
    "    host = \"webengineering.ins.hs-anhalt.de\",\n",
    "    port = 32192,\n",
    "    user = \"root\",\n",
    "    passwd = \"ga4wm19\",\n",
    "    database = \"dinoProject\"\n",
    ")\n",
    "\n",
    "mycursor = mydb.cursor()\n",
    "mydb.disconnect() # Vorläufig Verbindung schließen"
   ]
  },
  {
   "cell_type": "code",
   "execution_count": 2,
   "metadata": {},
   "outputs": [],
   "source": [
    "# Klasse um eine neue Session zu erstellen\n",
    "class createSession(Resource):\n",
    "    def post(self):\n",
    "        sessionID = str(uuid.uuid4().hex)\n",
    "        return redirect('http://localhost:8080/game/' + sessionID, code=303)\n",
    "\n",
    "# Klasse für Updaten und Abfragen eines spezifischen Highscores\n",
    "class getOrAddHighscore(Resource):\n",
    "    def get(self, id):\n",
    "        sql = \"SELECT * FROM dinoProject.highscoreTable WHERE sessionID = '\" + id + \"'\"\n",
    "        mydb.reconnect(attempts = 1 , delay = 0)\n",
    "        mycursor.execute(sql)\n",
    "        dbResult = mycursor.fetchall()\n",
    "        \n",
    "        if len(dbResult) == 1 :\n",
    "            session = dbResult[0]\n",
    "            return jsonify({'sessionID': session[0], 'highscore': session[1]})\n",
    "        else:\n",
    "            return jsonify({'status': 'none or more than one highscore found', 'statuscode': 409})\n",
    "        \n",
    "    def post(self, id):\n",
    "        if not request.json or not \"highscore\" in request.json or not \"sessionID\" in request.json:\n",
    "            return jsonify({'status': 'could not update highscore', 'statuscode': 409})\n",
    "        else:\n",
    "            sql = \"INSERT INTO dinoProject.highscoreTable (sessionID, highscore) VALUES (%s, %s) ON DUPLICATE KEY UPDATE highscore = %s\"\n",
    "            values = (id, request.json[\"highscore\"], request.json[\"highscore\"])\n",
    "            mydb.reconnect(attempts = 1 , delay = 0)\n",
    "            mycursor.execute(sql, values)\n",
    "            mydb.commit()\n",
    "            mydb.disconnect()\n",
    "            return jsonify({'status': 'updated highscore with id: ' + request.json[\"sessionID\"], 'statuscode': 200})\n",
    "        \n",
    "class logTimestampsInDB(Resource):\n",
    "    def put(self, id):\n",
    "        print(request.json)\n",
    "        if not request.json or not \"timeData\" in request.json or not \"sessionID\" in request.json:\n",
    "            print(\"Error on Logging Timedata for Session: \" + id)\n",
    "        else:\n",
    "            # Zeitdaten in File schreiben\n",
    "            filename = id + '.txt'\n",
    "            file = open(filename, \"w+\")\n",
    "            \n",
    "            timeData = request.json[\"timeData\"]\n",
    "            \n",
    "            for time in timeData:\n",
    "                file.write(\"Offset: %d ms\\r\\n\" % time)\n",
    "            \n",
    "            # Durchschnitt bilden und hinzufügen\n",
    "            average = sum(timeData) / len(timeData)\n",
    "            file.write(\"Durchschnitt: %d ms\\r\\n\" % average)\n",
    "            \n",
    "            file.close()\n",
    "            \n",
    "            # Blob erstellen\n",
    "            binaryData = convertToBlob(filename)\n",
    "            \n",
    "            sql = \"INSERT INTO dinoProject.logTable (sessionID, logFile) VALUES (%s, %s) ON DUPLICATE KEY UPDATE logFile = %s\"\n",
    "            values = (id, binaryData, binaryData)\n",
    "            mydb.reconnect(attempts = 1 , delay = 0)\n",
    "            mycursor.execute(sql, values)\n",
    "            mydb.commit()\n",
    "            mydb.disconnect()\n",
    "            \n",
    "def convertToBlob(filename):\n",
    "    with open(filename, 'rb') as file:\n",
    "                binaryData = file.read()\n",
    "    return binaryData"
   ]
  },
  {
   "cell_type": "code",
   "execution_count": null,
   "metadata": {},
   "outputs": [
    {
     "name": "stdout",
     "output_type": "stream",
     "text": [
      " * Serving Flask app \"__main__\" (lazy loading)\n",
      " * Environment: production\n",
      "   WARNING: Do not use the development server in a production environment.\n",
      "   Use a production WSGI server instead.\n",
      " * Debug mode: off\n"
     ]
    },
    {
     "name": "stderr",
     "output_type": "stream",
     "text": [
      " * Running on http://127.0.0.1:4000/ (Press CTRL+C to quit)\n",
      "127.0.0.1 - - [05/Sep/2019 15:59:58] \"POST /game HTTP/1.1\" 303 -\n",
      "127.0.0.1 - - [05/Sep/2019 15:59:59] \"GET /highscore/01083a942b7845579eb51f03296d5161 HTTP/1.1\" 200 -\n"
     ]
    },
    {
     "name": "stdout",
     "output_type": "stream",
     "text": [
      "{'sessionID': '01083a942b7845579eb51f03296d5161', 'timeData': [2, 1, 1, 2, 2, 1, 1, 1, 1, 2, 1, 2, 1, 1, 0, 0, 0, 2, 1, 1, 1, 2, 1, 1, 1, 1, 1, 1, 1, 2, 0, 1, 3, 2, 1, 1, 1, 1, 1]}\n"
     ]
    },
    {
     "name": "stderr",
     "output_type": "stream",
     "text": [
      "[2019-09-05 16:00:15,972] ERROR in app: Exception on /log/01083a942b7845579eb51f03296d5161 [PUT]\n",
      "Traceback (most recent call last):\n",
      "  File \"/home/johannes/anaconda3/lib/python3.7/site-packages/mysql/connector/connection_cext.py\", line 472, in cmd_query\n",
      "    raw_as_string=raw_as_string)\n",
      "_mysql_connector.MySQLInterfaceError: Cannot add or update a child row: a foreign key constraint fails (`dinoProject`.`logTable`, CONSTRAINT `logTable_ibfk_1` FOREIGN KEY (`sessionID`) REFERENCES `highscoreTable` (`sessionID`))\n",
      "\n",
      "During handling of the above exception, another exception occurred:\n",
      "\n",
      "Traceback (most recent call last):\n",
      "  File \"/home/johannes/anaconda3/lib/python3.7/site-packages/flask/app.py\", line 1813, in full_dispatch_request\n",
      "    rv = self.dispatch_request()\n",
      "  File \"/home/johannes/anaconda3/lib/python3.7/site-packages/flask/app.py\", line 1799, in dispatch_request\n",
      "    return self.view_functions[rule.endpoint](**req.view_args)\n",
      "  File \"/home/johannes/anaconda3/lib/python3.7/site-packages/flask_restful/__init__.py\", line 458, in wrapper\n",
      "    resp = resource(*args, **kwargs)\n",
      "  File \"/home/johannes/anaconda3/lib/python3.7/site-packages/flask/views.py\", line 88, in view\n",
      "    return self.dispatch_request(*args, **kwargs)\n",
      "  File \"/home/johannes/anaconda3/lib/python3.7/site-packages/flask_restful/__init__.py\", line 573, in dispatch_request\n",
      "    resp = meth(*args, **kwargs)\n",
      "  File \"<ipython-input-2-17e4053048ce>\", line 60, in put\n",
      "    mycursor.execute(sql, values)\n",
      "  File \"/home/johannes/anaconda3/lib/python3.7/site-packages/mysql/connector/cursor_cext.py\", line 266, in execute\n",
      "    raw_as_string=self._raw_as_string)\n",
      "  File \"/home/johannes/anaconda3/lib/python3.7/site-packages/mysql/connector/connection_cext.py\", line 475, in cmd_query\n",
      "    sqlstate=exc.sqlstate)\n",
      "mysql.connector.errors.IntegrityError: 1452 (23000): Cannot add or update a child row: a foreign key constraint fails (`dinoProject`.`logTable`, CONSTRAINT `logTable_ibfk_1` FOREIGN KEY (`sessionID`) REFERENCES `highscoreTable` (`sessionID`))\n",
      "127.0.0.1 - - [05/Sep/2019 16:00:15] \"PUT /log/01083a942b7845579eb51f03296d5161 HTTP/1.1\" 500 -\n"
     ]
    }
   ],
   "source": [
    "# Klassen an entsprechende URLs binden\n",
    "api.add_resource(createSession, '/game')\n",
    "api.add_resource(getOrAddHighscore, '/highscore/<id>')\n",
    "api.add_resource(logTimestampsInDB, '/log/<id>')\n",
    "\n",
    "# Run für Testzwecke, startet auf localhost:5000\n",
    "if __name__ == \"__main__\":\n",
    "    app.run(port=4000)\n",
    "\n",
    "# Run für Dockercontainer, mit Portangabe\n",
    "#if __name__ == \"__main__\":\n",
    " #   parser = optparse.OptionParser(usage=\"python server.py -p \")\n",
    "  #  parser.add_option('-p', '--port', action='store', dest='port', help='The port to listen on.')\n",
    "   # (args, _) = parser.parse_args()\n",
    "    #if args.port == None:\n",
    "     #   print \"Missing required argument: -p/--port\"\n",
    "      #  sys.exit(1)\n",
    "    #app.run(host='0.0.0.0', port=int(args.port), debug=False)"
   ]
  }
 ],
 "metadata": {
  "kernelspec": {
   "display_name": "Python 3",
   "language": "python",
   "name": "python3"
  },
  "language_info": {
   "codemirror_mode": {
    "name": "ipython",
    "version": 3
   },
   "file_extension": ".py",
   "mimetype": "text/x-python",
   "name": "python",
   "nbconvert_exporter": "python",
   "pygments_lexer": "ipython3",
   "version": "3.7.3"
  }
 },
 "nbformat": 4,
 "nbformat_minor": 2
}
